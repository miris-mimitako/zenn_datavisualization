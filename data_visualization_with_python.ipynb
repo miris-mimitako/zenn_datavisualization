{
  "nbformat": 4,
  "nbformat_minor": 0,
  "metadata": {
    "colab": {
      "provenance": [],
      "collapsed_sections": [],
      "authorship_tag": "ABX9TyMgAwrcBMc87VLRQC49PgfU",
      "include_colab_link": true
    },
    "kernelspec": {
      "name": "python3",
      "display_name": "Python 3"
    },
    "language_info": {
      "name": "python"
    }
  },
  "cells": [
    {
      "cell_type": "markdown",
      "metadata": {
        "id": "view-in-github",
        "colab_type": "text"
      },
      "source": [
        "<a href=\"https://colab.research.google.com/github/miris-mimitako/zenn_datavisualization/blob/main/data_visualization_with_python.ipynb\" target=\"_parent\"><img src=\"https://colab.research.google.com/assets/colab-badge.svg\" alt=\"Open In Colab\"/></a>"
      ]
    },
    {
      "cell_type": "markdown",
      "source": [
        "# Data Visualization with python\n",
        "\n",
        "Zennで公開している[この本](https://zenn.dev/mimitako/books/python-awesome-graph/viewer/1intro)のコードです。"
      ],
      "metadata": {
        "id": "i48MbXly_voh"
      }
    },
    {
      "cell_type": "code",
      "execution_count": null,
      "metadata": {
        "id": "UDMEQ3O6_iuQ"
      },
      "outputs": [],
      "source": []
    }
  ]
}